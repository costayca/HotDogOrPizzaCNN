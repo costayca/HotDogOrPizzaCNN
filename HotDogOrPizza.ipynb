{
 "metadata": {
  "language_info": {
   "codemirror_mode": {
    "name": "ipython",
    "version": 3
   },
   "file_extension": ".py",
   "mimetype": "text/x-python",
   "name": "python",
   "nbconvert_exporter": "python",
   "pygments_lexer": "ipython3",
   "version": "3.8.5-final"
  },
  "orig_nbformat": 2,
  "kernelspec": {
   "name": "Python 3.8.5 64-bit ('license': conda)",
   "display_name": "Python 3.8.5 64-bit ('license': conda)",
   "metadata": {
    "interpreter": {
     "hash": "ccbc380b4da4f89e3435d5a420776769489a873ec270e30016c295f6c5c3ed20"
    }
   }
  }
 },
 "nbformat": 4,
 "nbformat_minor": 2,
 "cells": [
  {
   "cell_type": "code",
   "execution_count": 2,
   "metadata": {},
   "outputs": [],
   "source": [
    "# importing the required libraries\n",
    "import numpy as numpy\n",
    "from keras.applications import VGG19\n",
    "from keras.applications.vgg19 import preprocess_input\n",
    "from keras.preprocessing.image import ImageDataGenerator"
   ]
  },
  {
   "cell_type": "code",
   "execution_count": 7,
   "metadata": {},
   "outputs": [
    {
     "output_type": "stream",
     "name": "stdout",
     "text": [
      "Found 498 images belonging to 2 classes.\n"
     ]
    }
   ],
   "source": [
    "#image data generator\n",
    "\n",
    "train_datagen = ImageDataGenerator(rescale=1./255., preprocessing_function=preprocess_input)\n",
    "\n",
    "train_generator = train_datagen.flow_from_directory(\"dataset/train\",\n",
    "                                                    target_size=(150,150),\n",
    "                                                    color_mode=\"rgb\",\n",
    "                                                    batch_size=16,\n",
    "                                                    class_mode=\"categorical\")"
   ]
  },
  {
   "cell_type": "code",
   "execution_count": 8,
   "metadata": {},
   "outputs": [
    {
     "output_type": "stream",
     "name": "stdout",
     "text": [
      "Found 499 images belonging to 2 classes.\n"
     ]
    }
   ],
   "source": [
    "valid_datagen = ImageDataGenerator(rescale=1./255., preprocessing_function=preprocess_input)\n",
    "\n",
    "valid_generator = valid_datagen.flow_from_directory(\"dataset/test\",\n",
    "                                                    target_size=(150,150),\n",
    "                                                    color_mode=\"rgb\",\n",
    "                                                    batch_size=16,\n",
    "                                                    class_mode=\"categorical\")"
   ]
  },
  {
   "source": [
    "## Transfer learning"
   ],
   "cell_type": "markdown",
   "metadata": {}
  },
  {
   "cell_type": "code",
   "execution_count": 4,
   "metadata": {},
   "outputs": [],
   "source": [
    "from keras.models import Sequential\n",
    "from keras.layers import Dense, Dropout, Flatten\n",
    "from keras.layers import Conv2D, MaxPooling2D"
   ]
  },
  {
   "cell_type": "code",
   "execution_count": 5,
   "metadata": {},
   "outputs": [
    {
     "output_type": "stream",
     "name": "stdout",
     "text": [
      "Downloading data from https://storage.googleapis.com/tensorflow/keras-applications/vgg19/vgg19_weights_tf_dim_ordering_tf_kernels_notop.h5\n",
      "80142336/80134624 [==============================] - 50s 1us/step\n"
     ]
    }
   ],
   "source": [
    "base_model = VGG19(weights=\"imagenet\", include_top=False, input_shape=(150,150,3))"
   ]
  },
  {
   "cell_type": "code",
   "execution_count": 6,
   "metadata": {},
   "outputs": [
    {
     "output_type": "stream",
     "name": "stdout",
     "text": [
      "Model: \"vgg19\"\n_________________________________________________________________\nLayer (type)                 Output Shape              Param #   \n=================================================================\ninput_1 (InputLayer)         [(None, 150, 150, 3)]     0         \n_________________________________________________________________\nblock1_conv1 (Conv2D)        (None, 150, 150, 64)      1792      \n_________________________________________________________________\nblock1_conv2 (Conv2D)        (None, 150, 150, 64)      36928     \n_________________________________________________________________\nblock1_pool (MaxPooling2D)   (None, 75, 75, 64)        0         \n_________________________________________________________________\nblock2_conv1 (Conv2D)        (None, 75, 75, 128)       73856     \n_________________________________________________________________\nblock2_conv2 (Conv2D)        (None, 75, 75, 128)       147584    \n_________________________________________________________________\nblock2_pool (MaxPooling2D)   (None, 37, 37, 128)       0         \n_________________________________________________________________\nblock3_conv1 (Conv2D)        (None, 37, 37, 256)       295168    \n_________________________________________________________________\nblock3_conv2 (Conv2D)        (None, 37, 37, 256)       590080    \n_________________________________________________________________\nblock3_conv3 (Conv2D)        (None, 37, 37, 256)       590080    \n_________________________________________________________________\nblock3_conv4 (Conv2D)        (None, 37, 37, 256)       590080    \n_________________________________________________________________\nblock3_pool (MaxPooling2D)   (None, 18, 18, 256)       0         \n_________________________________________________________________\nblock4_conv1 (Conv2D)        (None, 18, 18, 512)       1180160   \n_________________________________________________________________\nblock4_conv2 (Conv2D)        (None, 18, 18, 512)       2359808   \n_________________________________________________________________\nblock4_conv3 (Conv2D)        (None, 18, 18, 512)       2359808   \n_________________________________________________________________\nblock4_conv4 (Conv2D)        (None, 18, 18, 512)       2359808   \n_________________________________________________________________\nblock4_pool (MaxPooling2D)   (None, 9, 9, 512)         0         \n_________________________________________________________________\nblock5_conv1 (Conv2D)        (None, 9, 9, 512)         2359808   \n_________________________________________________________________\nblock5_conv2 (Conv2D)        (None, 9, 9, 512)         2359808   \n_________________________________________________________________\nblock5_conv3 (Conv2D)        (None, 9, 9, 512)         2359808   \n_________________________________________________________________\nblock5_conv4 (Conv2D)        (None, 9, 9, 512)         2359808   \n_________________________________________________________________\nblock5_pool (MaxPooling2D)   (None, 4, 4, 512)         0         \n=================================================================\nTotal params: 20,024,384\nTrainable params: 20,024,384\nNon-trainable params: 0\n_________________________________________________________________\n"
     ]
    }
   ],
   "source": [
    "base_model.summary()"
   ]
  },
  {
   "cell_type": "code",
   "execution_count": 9,
   "metadata": {},
   "outputs": [],
   "source": [
    "model_tl = Sequential()\n",
    "model_tl.add(base_model)\n",
    "model_tl.add(Flatten())\n",
    "model_tl.add(Dense(2, activation=\"softmax\"))"
   ]
  },
  {
   "cell_type": "code",
   "execution_count": 10,
   "metadata": {},
   "outputs": [
    {
     "output_type": "stream",
     "name": "stdout",
     "text": [
      "Model: \"sequential\"\n_________________________________________________________________\nLayer (type)                 Output Shape              Param #   \n=================================================================\nvgg19 (Functional)           (None, 4, 4, 512)         20024384  \n_________________________________________________________________\nflatten (Flatten)            (None, 8192)              0         \n_________________________________________________________________\ndense (Dense)                (None, 2)                 16386     \n=================================================================\nTotal params: 20,040,770\nTrainable params: 20,040,770\nNon-trainable params: 0\n_________________________________________________________________\n"
     ]
    }
   ],
   "source": [
    "model_tl.summary()"
   ]
  },
  {
   "cell_type": "code",
   "execution_count": 12,
   "metadata": {},
   "outputs": [],
   "source": [
    "# compiling\n",
    "model_tl.compile(loss=\"categorical_crossentropy\", optimizer=\"adam\", metrics=[\"accuracy\"])"
   ]
  },
  {
   "cell_type": "code",
   "execution_count": 13,
   "metadata": {},
   "outputs": [
    {
     "output_type": "stream",
     "name": "stdout",
     "text": [
      "Epoch 1/10\n",
      "32/32 [==============================] - 349s 11s/step - loss: 3.7905 - accuracy: 0.5723 - val_loss: 0.6559 - val_accuracy: 0.5311\n",
      "Epoch 2/10\n",
      "32/32 [==============================] - 301s 9s/step - loss: 0.5728 - accuracy: 0.6747 - val_loss: 0.3751 - val_accuracy: 0.8717\n",
      "Epoch 3/10\n",
      "32/32 [==============================] - 305s 10s/step - loss: 0.4481 - accuracy: 0.7751 - val_loss: 0.4698 - val_accuracy: 0.7796\n",
      "Epoch 4/10\n",
      "32/32 [==============================] - 330s 10s/step - loss: 0.4397 - accuracy: 0.8373 - val_loss: 0.8413 - val_accuracy: 0.5030\n",
      "Epoch 5/10\n",
      "32/32 [==============================] - 327s 10s/step - loss: 0.5546 - accuracy: 0.7108 - val_loss: 0.3299 - val_accuracy: 0.8878\n",
      "Epoch 6/10\n",
      "32/32 [==============================] - 349s 11s/step - loss: 0.5833 - accuracy: 0.7510 - val_loss: 0.4033 - val_accuracy: 0.8798\n",
      "Epoch 7/10\n",
      "32/32 [==============================] - 327s 10s/step - loss: 0.3545 - accuracy: 0.8795 - val_loss: 1.2780 - val_accuracy: 0.5010\n",
      "Epoch 8/10\n",
      "32/32 [==============================] - 315s 10s/step - loss: 0.3305 - accuracy: 0.8514 - val_loss: 0.2548 - val_accuracy: 0.8818\n",
      "Epoch 9/10\n",
      "32/32 [==============================] - 329s 10s/step - loss: 0.2307 - accuracy: 0.9197 - val_loss: 0.3320 - val_accuracy: 0.8637\n",
      "Epoch 10/10\n",
      "32/32 [==============================] - 332s 10s/step - loss: 0.2199 - accuracy: 0.9116 - val_loss: 0.2287 - val_accuracy: 0.8998\n"
     ]
    },
    {
     "output_type": "execute_result",
     "data": {
      "text/plain": [
       "<tensorflow.python.keras.callbacks.History at 0x286a1f3aeb0>"
      ]
     },
     "metadata": {},
     "execution_count": 13
    }
   ],
   "source": [
    "model_tl.fit(train_generator, validation_data=valid_generator, epochs=10)"
   ]
  },
  {
   "cell_type": "code",
   "execution_count": null,
   "metadata": {},
   "outputs": [],
   "source": []
  }
 ]
}